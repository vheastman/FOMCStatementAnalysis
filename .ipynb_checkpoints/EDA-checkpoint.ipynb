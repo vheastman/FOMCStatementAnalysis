{
 "cells": [
  {
   "cell_type": "markdown",
   "metadata": {},
   "source": [
    "## Part 1: EDA"
   ]
  },
  {
   "cell_type": "code",
   "execution_count": 2,
   "metadata": {
    "collapsed": true
   },
   "outputs": [],
   "source": [
    "import pandas as pd\n",
    "import numpy as np\n",
    "import matplotlib.pyplot as plt\n",
    "from utilities import utils, vocabulary"
   ]
  },
  {
   "cell_type": "code",
   "execution_count": 33,
   "metadata": {
    "collapsed": true
   },
   "outputs": [],
   "source": [
    "# Load Data\n",
    "statements = pd.read_csv(\"statements_with_labels.csv\")"
   ]
  },
  {
   "cell_type": "markdown",
   "metadata": {},
   "source": [
    "#### 1 (a). Word Counts"
   ]
  },
  {
   "cell_type": "code",
   "execution_count": 23,
   "metadata": {},
   "outputs": [],
   "source": [
    "# Determine word counts\n",
    "counts = {} # initialize dictionary of word counts\n",
    "stm_lengths = [] # initialize list to store statment lengths\n",
    "for i in statements.text:\n",
    "    words = i.split()\n",
    "    stm_lengths.append(len(words))\n",
    "    for j in words:\n",
    "        j = j.lower()\n",
    "        if j not in counts.keys():\n",
    "            counts[j] = 1\n",
    "        else:\n",
    "            counts[j] += 1"
   ]
  },
  {
   "cell_type": "code",
   "execution_count": 24,
   "metadata": {},
   "outputs": [
    {
     "name": "stdout",
     "output_type": "stream",
     "text": [
      "Number of Observations: 171\n",
      "Unique words: 2475\n",
      "\n",
      "Shortest statement: 36 words\n",
      "Longest statement: 993 words\n",
      "Average statement length: 406.9590643274854 words\n"
     ]
    }
   ],
   "source": [
    "print('Number of Observations: ' + str(statements.shape[0]))\n",
    "print('Unique words: ' + str(len(counts)))\n",
    "\n",
    "print('')\n",
    "print('Shortest statement: ' + str(np.min(stm_lengths)) + ' words')\n",
    "print('Longest statement: ' + str(np.max(stm_lengths)) + ' words')\n",
    "print('Average statement length: ' + str(np.mean(stm_lengths)) + ' words')"
   ]
  },
  {
   "cell_type": "code",
   "execution_count": 25,
   "metadata": {},
   "outputs": [
    {
     "name": "stdout",
     "output_type": "stream",
     "text": [
      "Top 10 words: \n",
      "its 786\n",
      "a 790\n",
      "inflation 794\n",
      "federal 970\n",
      "committee 1222\n",
      "in 1667\n",
      "and 2218\n",
      "to 2384\n",
      "of 2420\n",
      "the 4993\n"
     ]
    }
   ],
   "source": [
    "scounts = sorted(counts.items(), key=lambda kv: kv[1])\n",
    "print(\"Top 10 words: \")\n",
    "for k, v in scounts[-10:]:\n",
    "    print(k, v)"
   ]
  },
  {
   "cell_type": "markdown",
   "metadata": {},
   "source": [
    "Notes: 'Committee' is coming in strong, as is expected. 'Federal' and 'inflation' also make surprise appearances in the top 10 items."
   ]
  },
  {
   "cell_type": "code",
   "execution_count": 26,
   "metadata": {},
   "outputs": [
    {
     "data": {
      "text/plain": [
       "(array([ 8., 54., 32.,  5., 21., 14.,  7.,  4., 13., 13.]),\n",
       " array([ 36. , 131.7, 227.4, 323.1, 418.8, 514.5, 610.2, 705.9, 801.6,\n",
       "        897.3, 993. ]),\n",
       " <a list of 10 Patch objects>)"
      ]
     },
     "execution_count": 26,
     "metadata": {},
     "output_type": "execute_result"
    },
    {
     "data": {
      "image/png": "[encoded data removed]",
      "text/plain": [
       "<Figure size 432x288 with 1 Axes>"
      ]
     },
     "metadata": {},
     "output_type": "display_data"
    }
   ],
   "source": [
    "plt.hist(stm_lengths)"
   ]
  },
  {
   "cell_type": "code",
   "execution_count": 27,
   "metadata": {},
   "outputs": [
    {
     "data": {
      "text/plain": [
       "(array([32., 14., 26., 13., 40., 25., 17.,  2.,  0.,  2.]),\n",
       " array([0.43225084, 0.4834702 , 0.53468956, 0.58590892, 0.63712828,\n",
       "        0.68834764, 0.739567  , 0.79078636, 0.84200572, 0.89322508,\n",
       "        0.94444444]),\n",
       " <a list of 10 Patch objects>)"
      ]
     },
     "execution_count": 27,
     "metadata": {},
     "output_type": "execute_result"
    },
    {
     "data": {
      "image/png": "[encoded data removed]",
      "text/plain": [
       "<Figure size 432x288 with 1 Axes>"
      ]
     },
     "metadata": {},
     "output_type": "display_data"
    }
   ],
   "source": [
    "# Count distinct words in each statement\n",
    "distinct = []\n",
    "for i in statements.text:\n",
    "    words = i.split()\n",
    "    distinct.append(len(set(words))/len(words))\n",
    "    \n",
    "plt.hist(distinct)"
   ]
  },
  {
   "cell_type": "code",
   "execution_count": 37,
   "metadata": {},
   "outputs": [
    {
     "data": {
      "text/plain": [
       "0    91\n",
       "1    80\n",
       "Name: labels, dtype: int64"
      ]
     },
     "execution_count": 37,
     "metadata": {},
     "output_type": "execute_result"
    }
   ],
   "source": [
    "# Count statement outcomes\n",
    "statements['labels'].value_counts()"
   ]
  }
 ],
 "metadata": {
  "kernelspec": {
   "display_name": "Python 3",
   "language": "python",
   "name": "python3"
  },
  "language_info": {
   "codemirror_mode": {
    "name": "ipython",
    "version": 3
   },
   "file_extension": ".py",
   "mimetype": "text/x-python",
   "name": "python",
   "nbconvert_exporter": "python",
   "pygments_lexer": "ipython3",
   "version": "3.6.5"
  }
 },
 "nbformat": 4,
 "nbformat_minor": 2
}
