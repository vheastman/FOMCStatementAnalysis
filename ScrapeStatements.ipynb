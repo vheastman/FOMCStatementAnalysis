{
 "cells": [
  {
   "cell_type": "markdown",
   "metadata": {},
   "source": [
    "## File to scrape text from FOMC statements\n",
    "\n",
    "#### 1. Import and mess with statements"
   ]
  },
  {
   "cell_type": "code",
   "execution_count": 2,
   "metadata": {
    "collapsed": true
   },
   "outputs": [],
   "source": [
    "import PyPDF2\n",
    "import os\n",
    "import pandas as pd\n",
    "\n",
    "#https://fraser.stlouisfed.org/title/677#576435"
   ]
  },
  {
   "cell_type": "code",
   "execution_count": 3,
   "metadata": {},
   "outputs": [
    {
     "data": {
      "text/plain": [
       "1"
      ]
     },
     "execution_count": 3,
     "metadata": {},
     "output_type": "execute_result"
    }
   ],
   "source": [
    "pdfFileObj = open('FOMC_statements/19940204statement.pdf', 'rb')\n",
    "pdfReader = PyPDF2.PdfFileReader(pdfFileObj)\n",
    "pdfReader.numPages"
   ]
  },
  {
   "cell_type": "code",
   "execution_count": 4,
   "metadata": {
    "scrolled": true
   },
   "outputs": [
    {
     "data": {
      "text/plain": [
       "\"Release Date: February 4, 1994\\n For immediate releaseChairman Alan Greenspan announced today that the Federal Open Market Committee decided toincrease slightly the degree of pressure on reserve positions. The action is expected to be associatedwith a small increase in short-term money market interest rates.\\nThe decision was taken to move toward a less accommodative stance in monetary policy in order tosustain and enhance the economic expansion.Chairman Greenspan decided to announce this action immediately so as to avoid anymisunderstanding of the Committee's purposes, given the fact that this is the first firming of reservemarket conditions by the Committee since early 1989.Home | Press releases\\nAccessibility\\n | Contact UsLast update: April 20, 2007\\n\""
      ]
     },
     "execution_count": 4,
     "metadata": {},
     "output_type": "execute_result"
    }
   ],
   "source": [
    "pageObj = pdfReader.getPage(0)\n",
    "pageObj.extractText()"
   ]
  },
  {
   "cell_type": "code",
   "execution_count": 5,
   "metadata": {
    "collapsed": true
   },
   "outputs": [],
   "source": [
    "statements = []\n",
    "dates = []\n",
    "\n",
    "# loop through files\n",
    "for filename in os.listdir('FOMC_statements'):\n",
    "    if filename.endswith(\".pdf\"):\n",
    "        \n",
    "        # add date to list\n",
    "        dt = filename.replace('statement.pdf', '')\n",
    "        dates.append(dt)\n",
    "        \n",
    "        # read specific file\n",
    "        pdfFileObj = open('FOMC_statements/' + filename, 'rb')\n",
    "        pdfReader = PyPDF2.PdfFileReader(pdfFileObj)\n",
    "        \n",
    "        p = ''\n",
    "        # loop through pages\n",
    "        for i in range(pdfReader.numPages):\n",
    "            pageObj = pdfReader.getPage(i)\n",
    "            p += pageObj.extractText()\n",
    "            \n",
    "        statements.append(p)\n",
    "        "
   ]
  },
  {
   "cell_type": "code",
   "execution_count": 6,
   "metadata": {
    "collapsed": true
   },
   "outputs": [],
   "source": [
    "data = pd.DataFrame({'date': dates, 'text': statements})"
   ]
  },
  {
   "cell_type": "code",
   "execution_count": 9,
   "metadata": {},
   "outputs": [],
   "source": [
    "data.head()\n",
    "data.to_csv(\"fomc_statements.csv\")"
   ]
  },
  {
   "cell_type": "markdown",
   "metadata": {},
   "source": [
    "#### 2. Import and mess with treasury data"
   ]
  },
  {
   "cell_type": "code",
   "execution_count": 8,
   "metadata": {},
   "outputs": [
    {
     "data": {
      "text/html": [
       "<div>\n",
       "<table border=\"1\" class=\"dataframe\">\n",
       "  <thead>\n",
       "    <tr style=\"text-align: right;\">\n",
       "      <th></th>\n",
       "      <th>Date</th>\n",
       "      <th>1 MO</th>\n",
       "      <th>3 MO</th>\n",
       "      <th>6 MO</th>\n",
       "      <th>1 YR</th>\n",
       "      <th>2 YR</th>\n",
       "      <th>3 YR</th>\n",
       "      <th>5 YR</th>\n",
       "      <th>7 YR</th>\n",
       "      <th>10 YR</th>\n",
       "      <th>20 YR</th>\n",
       "      <th>30 YR</th>\n",
       "    </tr>\n",
       "  </thead>\n",
       "  <tbody>\n",
       "    <tr>\n",
       "      <th>0</th>\n",
       "      <td>2018-06-18</td>\n",
       "      <td>1.84</td>\n",
       "      <td>1.94</td>\n",
       "      <td>2.13</td>\n",
       "      <td>2.35</td>\n",
       "      <td>2.56</td>\n",
       "      <td>2.67</td>\n",
       "      <td>2.80</td>\n",
       "      <td>2.89</td>\n",
       "      <td>2.92</td>\n",
       "      <td>2.98</td>\n",
       "      <td>3.05</td>\n",
       "    </tr>\n",
       "    <tr>\n",
       "      <th>1</th>\n",
       "      <td>2018-06-15</td>\n",
       "      <td>1.82</td>\n",
       "      <td>1.94</td>\n",
       "      <td>2.07</td>\n",
       "      <td>2.35</td>\n",
       "      <td>2.55</td>\n",
       "      <td>2.68</td>\n",
       "      <td>2.81</td>\n",
       "      <td>2.89</td>\n",
       "      <td>2.93</td>\n",
       "      <td>2.98</td>\n",
       "      <td>3.05</td>\n",
       "    </tr>\n",
       "    <tr>\n",
       "      <th>2</th>\n",
       "      <td>2018-06-14</td>\n",
       "      <td>1.81</td>\n",
       "      <td>1.94</td>\n",
       "      <td>2.07</td>\n",
       "      <td>2.35</td>\n",
       "      <td>2.59</td>\n",
       "      <td>2.69</td>\n",
       "      <td>2.81</td>\n",
       "      <td>2.90</td>\n",
       "      <td>2.94</td>\n",
       "      <td>2.99</td>\n",
       "      <td>3.05</td>\n",
       "    </tr>\n",
       "    <tr>\n",
       "      <th>3</th>\n",
       "      <td>2018-06-13</td>\n",
       "      <td>1.82</td>\n",
       "      <td>1.94</td>\n",
       "      <td>2.09</td>\n",
       "      <td>2.35</td>\n",
       "      <td>2.59</td>\n",
       "      <td>2.71</td>\n",
       "      <td>2.85</td>\n",
       "      <td>2.95</td>\n",
       "      <td>2.98</td>\n",
       "      <td>3.04</td>\n",
       "      <td>3.10</td>\n",
       "    </tr>\n",
       "    <tr>\n",
       "      <th>4</th>\n",
       "      <td>2018-06-12</td>\n",
       "      <td>1.81</td>\n",
       "      <td>1.92</td>\n",
       "      <td>2.10</td>\n",
       "      <td>2.31</td>\n",
       "      <td>2.54</td>\n",
       "      <td>2.67</td>\n",
       "      <td>2.81</td>\n",
       "      <td>2.91</td>\n",
       "      <td>2.96</td>\n",
       "      <td>3.02</td>\n",
       "      <td>3.09</td>\n",
       "    </tr>\n",
       "  </tbody>\n",
       "</table>\n",
       "</div>"
      ],
      "text/plain": [
       "         Date  1 MO  3 MO  6 MO  1 YR  2 YR  3 YR  5 YR  7 YR  10 YR  20 YR  \\\n",
       "0  2018-06-18  1.84  1.94  2.13  2.35  2.56  2.67  2.80  2.89   2.92   2.98   \n",
       "1  2018-06-15  1.82  1.94  2.07  2.35  2.55  2.68  2.81  2.89   2.93   2.98   \n",
       "2  2018-06-14  1.81  1.94  2.07  2.35  2.59  2.69  2.81  2.90   2.94   2.99   \n",
       "3  2018-06-13  1.82  1.94  2.09  2.35  2.59  2.71  2.85  2.95   2.98   3.04   \n",
       "4  2018-06-12  1.81  1.92  2.10  2.31  2.54  2.67  2.81  2.91   2.96   3.02   \n",
       "\n",
       "   30 YR  \n",
       "0   3.05  \n",
       "1   3.05  \n",
       "2   3.05  \n",
       "3   3.10  \n",
       "4   3.09  "
      ]
     },
     "execution_count": 8,
     "metadata": {},
     "output_type": "execute_result"
    }
   ],
   "source": [
    "treas = pd.read_csv('USTREASURY-YIELD.csv')\n",
    "treas.head()"
   ]
  },
  {
   "cell_type": "code",
   "execution_count": 14,
   "metadata": {},
   "outputs": [
    {
     "data": {
      "text/plain": [
       "date                                             19940322\n",
       "text    Release Date: March 22, 1994\\n For immediate r...\n",
       "Name: 1, dtype: object"
      ]
     },
     "execution_count": 14,
     "metadata": {},
     "output_type": "execute_result"
    }
   ],
   "source": [
    "data.loc[1,:]"
   ]
  }
 ],
 "metadata": {
  "kernelspec": {
   "display_name": "Python 3",
   "language": "python",
   "name": "python3"
  },
  "language_info": {
   "codemirror_mode": {
    "name": "ipython",
    "version": 3
   },
   "file_extension": ".py",
   "mimetype": "text/x-python",
   "name": "python",
   "nbconvert_exporter": "python",
   "pygments_lexer": "ipython3",
   "version": "3.6.0"
  }
 },
 "nbformat": 4,
 "nbformat_minor": 2
}
